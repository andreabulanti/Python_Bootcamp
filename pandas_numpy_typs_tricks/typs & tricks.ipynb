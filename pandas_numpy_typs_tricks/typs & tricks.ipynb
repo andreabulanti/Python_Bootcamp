{
 "cells": [
  {
   "cell_type": "markdown",
   "id": "9b0c4652",
   "metadata": {},
   "source": [
    "# TYPS & TRICKS PANDS, NUMPY"
   ]
  },
  {
   "cell_type": "markdown",
   "id": "8f8b6bad",
   "metadata": {},
   "source": [
    "## ESEGUIRE LA SOMMA FRA I VALORI DI PIU' COLONNE CON NUMPY.SUM"
   ]
  },
  {
   "cell_type": "code",
   "execution_count": 10,
   "id": "a75005de",
   "metadata": {},
   "outputs": [
    {
     "name": "stdout",
     "output_type": "stream",
     "text": [
      "   A  B  C   D\n",
      "0  1  4  7  12\n",
      "1  2  5  8  15\n",
      "2  3  6  9  18\n"
     ]
    }
   ],
   "source": [
    "import pandas as pd\n",
    "import numpy as np\n",
    "\n",
    "# Esempio di DataFrame con colonne A, B e C contenenti numeri\n",
    "data = {'A': [1, 2, 3],\n",
    "        'B': [4, 5, 6],\n",
    "        'C': [7, 8, 9]}\n",
    "\n",
    "df = pd.DataFrame(data)\n",
    "\n",
    "# Somma delle tre colonne utilizzando NumPy lungo le righe\n",
    "df['D'] = np.sum(df[['A', 'B', 'C']], axis=1)\n",
    "\n",
    "print(df)"
   ]
  },
  {
   "cell_type": "markdown",
   "id": "835916ae",
   "metadata": {},
   "source": [
    "## CONCATENARE LA LUNGHEZZA DI 3 COLONNE STRINGA IN UNA 4 COLONNA CONTENENTE LA LISTA DELLE LUNGHEZZE"
   ]
  },
  {
   "cell_type": "code",
   "execution_count": 24,
   "id": "8193998d",
   "metadata": {},
   "outputs": [
    {
     "name": "stdout",
     "output_type": "stream",
     "text": [
      "        a            b         c           e\n",
      "0   hello           is     great   [5, 2, 5]\n",
      "1   world      awesome         !   [5, 7, 1]\n",
      "2  python  programming  language  [6, 11, 8]\n"
     ]
    }
   ],
   "source": [
    "#soluzione 1\n",
    "\n",
    "data = {'a': ['hello', 'world', 'python'],\n",
    "        'b': ['is', 'awesome', 'programming'],\n",
    "        'c': ['great', '!', 'language']}\n",
    "\n",
    "df = pd.DataFrame(data)\n",
    "\n",
    "# Funzione per ottenere la lunghezza delle stringhe e restituire una lista\n",
    "def get_string_lengths(row):\n",
    "    lengths = [len(row['a']), len(row['b']), len(row['c'])]\n",
    "    return lengths\n",
    "\n",
    "# Applica la funzione alla riga e crea una nuova colonna 'e'\n",
    "df['e'] = df.apply(get_string_lengths, axis=1)\n",
    "\n",
    "print(df)"
   ]
  },
  {
   "cell_type": "code",
   "execution_count": 25,
   "id": "d1dc5ea7",
   "metadata": {},
   "outputs": [
    {
     "name": "stdout",
     "output_type": "stream",
     "text": [
      "        a            b         c           e\n",
      "0   hello           is     great   [5, 2, 5]\n",
      "1   world      awesome         !   [5, 7, 1]\n",
      "2  python  programming  language  [6, 11, 8]\n"
     ]
    }
   ],
   "source": [
    "#soluzione 2\n",
    "\n",
    "import pandas as pd\n",
    "\n",
    "# Esempio di DataFrame con colonne a, b, e c\n",
    "data = {'a': ['hello', 'world', 'python'],\n",
    "        'b': ['is', 'awesome', 'programming'],\n",
    "        'c': ['great', '!', 'language']}\n",
    "\n",
    "df = pd.DataFrame(data)\n",
    "\n",
    "# Aggiungi una nuova colonna 'e' contenente la lista delle lunghezze di stringhe nelle colonne 'a', 'b' e 'c'\n",
    "df['e'] = df.apply(lambda row: [len(row['a']), len(row['b']), len(row['c'])], axis=1)\n",
    "\n",
    "print(df)"
   ]
  },
  {
   "cell_type": "markdown",
   "id": "c5b0da9d",
   "metadata": {},
   "source": [
    "## CONCATENARE + COLONNE IN UNA NUOVA COLONNA"
   ]
  },
  {
   "cell_type": "code",
   "execution_count": 26,
   "id": "d4f2cbaa",
   "metadata": {},
   "outputs": [
    {
     "name": "stdout",
     "output_type": "stream",
     "text": [
      "        a            b         c                            d\n",
      "0   hello           is     great               hello is great\n",
      "1   world      awesome         !              world awesome !\n",
      "2  python  programming  language  python programming language\n"
     ]
    }
   ],
   "source": [
    "import pandas as pd\n",
    "\n",
    "# Esempio di DataFrame con colonne a, b, e c\n",
    "data = {'a': ['hello', 'world', 'python'],\n",
    "        'b': ['is', 'awesome', 'programming'],\n",
    "        'c': ['great', '!', 'language']}\n",
    "\n",
    "df = pd.DataFrame(data)\n",
    "\n",
    "# Funzione per concatenare le tre colonne\n",
    "def concatenate_columns(row):\n",
    "    return row['a'] + ' ' + row['b'] + ' ' + row['c']\n",
    "\n",
    "# Applica la funzione alla riga e crea una nuova colonna 'd'\n",
    "df['d'] = df.apply(concatenate_columns, axis=1)\n",
    "\n",
    "print(df)"
   ]
  },
  {
   "cell_type": "markdown",
   "id": "422e3e4f",
   "metadata": {},
   "source": [
    "## ESPANDERE IL CONTENUTO DI UNA COLONNA CONTENENTE UNA LISTA IN PIU' COLONNE DOVE OGNI COLONNA è UN VALORE DELLA LISTA"
   ]
  },
  {
   "cell_type": "code",
   "execution_count": 33,
   "id": "bbf0d2d9",
   "metadata": {},
   "outputs": [
    {
     "name": "stdout",
     "output_type": "stream",
     "text": [
      "  colonna_stringa1 colonna_stringa2 colonna_stringa3 lista_colonna  0  1  2\n",
      "0                a                d                g     [1, 2, 3]  1  2  3\n",
      "1                b                e                h     [4, 5, 6]  4  5  6\n",
      "2                c                f                i     [7, 8, 9]  7  8  9\n"
     ]
    }
   ],
   "source": [
    "#soluzione 1\n",
    "\n",
    "import pandas as pd\n",
    "\n",
    "# Esempio di DataFrame\n",
    "data = {'colonna_stringa1': ['a', 'b', 'c'],\n",
    "        'colonna_stringa2': ['d', 'e', 'f'],\n",
    "        'colonna_stringa3': ['g', 'h', 'i'],\n",
    "        'lista_colonna': [[1, 2, 3], [4, 5, 6], [7, 8, 9]]}\n",
    "\n",
    "df = pd.DataFrame(data)\n",
    "\n",
    "# Espandi la colonna della lista in più colonne\n",
    "expanded_df = df['lista_colonna'].apply(pd.Series)\n",
    "\n",
    "# Unisci il nuovo DataFrame espanso con il DataFrame originale\n",
    "result_df = pd.concat([df, expanded_df], axis=1)\n",
    "\n",
    "print(result_df)"
   ]
  },
  {
   "cell_type": "code",
   "execution_count": 34,
   "id": "aa26e325",
   "metadata": {},
   "outputs": [
    {
     "name": "stdout",
     "output_type": "stream",
     "text": [
      "  colonna_stringa1 colonna_stringa2 colonna_stringa3 lista_colonna  0  1  2\n",
      "0                a                d                g     [1, 2, 3]  1  2  3\n",
      "1                b                e                h     [4, 5, 6]  4  5  6\n",
      "2                c                f                i     [7, 8, 9]  7  8  9\n"
     ]
    }
   ],
   "source": [
    "# soluzione 2\n",
    "\n",
    "import pandas as pd\n",
    "\n",
    "# Esempio di DataFrame\n",
    "data = {'colonna_stringa1': ['a', 'b', 'c'],\n",
    "        'colonna_stringa2': ['d', 'e', 'f'],\n",
    "        'colonna_stringa3': ['g', 'h', 'i'],\n",
    "        'lista_colonna': [[1, 2, 3], [4, 5, 6], [7, 8, 9]]}\n",
    "\n",
    "df = pd.DataFrame(data)\n",
    "\n",
    "# Creazione di un DataFrame per ogni lista nella colonna 'lista_colonna' e unione di tutti i DataFrame\n",
    "result_df = pd.concat([df, df['lista_colonna'].apply(lambda x: pd.Series(x))], axis=1)\n",
    "\n",
    "print(result_df)"
   ]
  },
  {
   "cell_type": "code",
   "execution_count": null,
   "id": "140948d8",
   "metadata": {},
   "outputs": [],
   "source": []
  },
  {
   "cell_type": "code",
   "execution_count": null,
   "id": "e9db0d86",
   "metadata": {},
   "outputs": [],
   "source": []
  }
 ],
 "metadata": {
  "kernelspec": {
   "display_name": "Python 3 (ipykernel)",
   "language": "python",
   "name": "python3"
  },
  "language_info": {
   "codemirror_mode": {
    "name": "ipython",
    "version": 3
   },
   "file_extension": ".py",
   "mimetype": "text/x-python",
   "name": "python",
   "nbconvert_exporter": "python",
   "pygments_lexer": "ipython3",
   "version": "3.11.5"
  }
 },
 "nbformat": 4,
 "nbformat_minor": 5
}
