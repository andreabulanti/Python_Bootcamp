{
 "cells": [
  {
   "cell_type": "markdown",
   "id": "501c0a9d",
   "metadata": {},
   "source": [
    "## COME CALCOLARE NELL'ARGOMENTO AGGFUNC DI UNA PIVOT TABLE I VALORI UNIVOCI DEL MESE UTILIZZANDO COME INDEX DELLA PIVOT TABLE UNA COLONNA DI TIPO DATETIME64 DEL DATAFRAME"
   ]
  },
  {
   "cell_type": "code",
   "execution_count": 37,
   "id": "504d4ca8",
   "metadata": {},
   "outputs": [
    {
     "name": "stdout",
     "output_type": "stream",
     "text": [
      "<class 'pandas.core.frame.DataFrame'>\n",
      "DatetimeIndex: 5 entries, 2024-01-05 to 2024-03-03\n",
      "Data columns (total 2 columns):\n",
      " #   Column       Non-Null Count  Dtype \n",
      "---  ------       --------------  ----- \n",
      " 0   Dipendente   5 non-null      object\n",
      " 1   Ore Assenza  5 non-null      int64 \n",
      "dtypes: int64(1), object(1)\n",
      "memory usage: 120.0+ bytes\n"
     ]
    }
   ],
   "source": [
    "import pandas as pd\n",
    "\n",
    "# Creazione di un DataFrame di esempio\n",
    "data = {\n",
    "    'Data Assenza': ['2024-01-05', '2024-01-15', '2024-02-10', '2024-02-20', '2024-03-03'],\n",
    "    'Dipendente': ['Mario', 'Luigi', 'Mario', 'Giuseppe', 'Luigi'],\n",
    "    'Ore Assenza': [8, 4, 8, 6, 8]  # Assenze in ore\n",
    "}\n",
    "\n",
    "df = pd.DataFrame(data)\n",
    "df['Data Assenza'] = pd.to_datetime(df['Data Assenza'])\n",
    "\n",
    "# Imposta 'Data Assenza' come indice\n",
    "df.set_index('Data Assenza', inplace=True)\n",
    "df.info()"
   ]
  },
  {
   "cell_type": "code",
   "execution_count": 45,
   "id": "4dac6037",
   "metadata": {},
   "outputs": [
    {
     "name": "stdout",
     "output_type": "stream",
     "text": [
      "              Ore Assenza\n",
      "Data Assenza             \n",
      "2024-01-05            8.0\n",
      "2024-01-15            4.0\n",
      "2024-02-10            8.0\n",
      "2024-02-20            6.0\n",
      "2024-03-03            8.0\n"
     ]
    }
   ],
   "source": [
    "# Creazione della tabella pivot con la funzione personalizzata\n",
    "tabella_pivot = df.pivot_table(index=df.index, values='Ore Assenza', aggfunc=lambda x: x.sum() / x.index.to_period('M').nunique())\n",
    "\n",
    "print(tabella_pivot)"
   ]
  },
  {
   "cell_type": "markdown",
   "id": "e65886e4",
   "metadata": {},
   "source": [
    "## TIPS SU GROUPY IN PRESENZA DI UNA COLONNA INDICE DI TIPO DATETIME64"
   ]
  },
  {
   "cell_type": "code",
   "execution_count": null,
   "id": "4f79fac3",
   "metadata": {},
   "outputs": [],
   "source": [
    "# result = transactions.loc[\"2016\"].groupby(lambda x: x.month).sum()"
   ]
  },
  {
   "cell_type": "code",
   "execution_count": null,
   "id": "341ca45f",
   "metadata": {},
   "outputs": [],
   "source": [
    "# LA FUNZIONE SOPRA CONSENTE PRIMA DI FILTRARE TUTTE LE RIGHE DEL DATAFRAME DEL 2016, \n",
    "# IN UN DATAFRAME DOVE GLI INDICI SONO DI TIPO DATA DATETIME64.\n",
    "# IL GROUPBY CON LA FUNZIONE LAMBA DI CONSENTE DI ACCEDERE ALLA PROPRIETA' DEL MESE E RAGGRUPPARE IL DATAFRAME\n",
    "# PER OGNI MESE PRESENTE NEGLI INDICI DI TIPO DATA.\n",
    "# LA FUNZIONE SUM INVECE SOMMA TUTTI I VALORI PRESENTI NELLE COLONNE DI TIPO \"NUMERO\" DEL DATAFRAME\n",
    "# IL RISULTATO SARA' UNA TABELLA CON GLI INDICI RAPPRESENTATI DAL MESE E NELLE COLONNE LA SOMMA DI OGNI COLONNA NUMERICA PER IL MESE SPECIFICO"
   ]
  },
  {
   "cell_type": "code",
   "execution_count": null,
   "id": "dbade3fb",
   "metadata": {},
   "outputs": [],
   "source": []
  }
 ],
 "metadata": {
  "kernelspec": {
   "display_name": "Python 3 (ipykernel)",
   "language": "python",
   "name": "python3"
  },
  "language_info": {
   "codemirror_mode": {
    "name": "ipython",
    "version": 3
   },
   "file_extension": ".py",
   "mimetype": "text/x-python",
   "name": "python",
   "nbconvert_exporter": "python",
   "pygments_lexer": "ipython3",
   "version": "3.11.5"
  }
 },
 "nbformat": 4,
 "nbformat_minor": 5
}
